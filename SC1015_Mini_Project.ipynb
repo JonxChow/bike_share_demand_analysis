{
  "nbformat": 4,
  "nbformat_minor": 0,
  "metadata": {
    "colab": {
      "provenance": [],
      "authorship_tag": "ABX9TyNuvB0ZxI/P//FbZgdHTvvc"
    },
    "kernelspec": {
      "name": "python3",
      "display_name": "Python 3"
    },
    "language_info": {
      "name": "python"
    }
  },
  "cells": [
    {
      "cell_type": "code",
      "source": [],
      "metadata": {
        "id": "PVvTm4X3J_64"
      },
      "execution_count": null,
      "outputs": []
    }
  ]
}